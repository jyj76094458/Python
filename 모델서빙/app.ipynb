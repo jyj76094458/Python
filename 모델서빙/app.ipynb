{
 "cells": [
  {
   "cell_type": "markdown",
   "id": "24235b4d-25ca-4e6d-810d-0e76cfad5a2c",
   "metadata": {},
   "source": [
    "# 1. 라이브러리 선언"
   ]
  },
  {
   "cell_type": "code",
   "execution_count": 1,
   "id": "f56bba9b-9f04-4e29-83fd-78595e84aade",
   "metadata": {},
   "outputs": [],
   "source": [
    "# 서버 관리용 fastapi 의존 라이브러리\n",
    "import uvicorn"
   ]
  },
  {
   "cell_type": "code",
   "execution_count": 2,
   "id": "bd9aafb9-3b66-441d-8382-c0f30df3e990",
   "metadata": {},
   "outputs": [],
   "source": [
    "# 비동기 처리가 가능한 파이썬 웹 서버 라이브러리\n",
    "from fastapi import FastAPI"
   ]
  },
  {
   "cell_type": "code",
   "execution_count": 3,
   "id": "df4b733e-de2a-4d7e-a9a3-e32e232ae14f",
   "metadata": {},
   "outputs": [],
   "source": [
    "# 데이터 바이너리 저장용 라이브러리 (특징: 얘는 데이터 타입을 그대로 보존한다)\n",
    "import pickle"
   ]
  },
  {
   "cell_type": "code",
   "execution_count": 4,
   "id": "2fb5eddc-b71b-4f1b-bf1e-4951f535e2de",
   "metadata": {},
   "outputs": [],
   "source": [
    "# 데이터 행과열을 처리하는 라이브러리\n",
    "import pandas as pd\n",
    "# 데이터 수를 관리하는 라이브러리\n",
    "import numpy as np"
   ]
  },
  {
   "cell_type": "code",
   "execution_count": 5,
   "id": "4542d960-954f-43e8-b5c1-51f0e6e16bf3",
   "metadata": {},
   "outputs": [],
   "source": [
    "# 인터페이스 데이터 관리를 위한 라이브러리\n",
    "from pydantic import BaseModel"
   ]
  },
  {
   "cell_type": "markdown",
   "id": "017e2e7e-48eb-4f48-86c2-e931f5645c8b",
   "metadata": {},
   "source": [
    "# 2. 모델 불러오기"
   ]
  },
  {
   "cell_type": "code",
   "execution_count": 6,
   "id": "72109926-ebf5-41ea-be22-3d5eca01a3ed",
   "metadata": {},
   "outputs": [],
   "source": [
    "# scikit-learn 버전 맞추기\n",
    "with open(\"kopo_mlcore.dump\", \"rb\") as fr:\n",
    "    loadedModel = pickle.load(fr)"
   ]
  },
  {
   "cell_type": "code",
   "execution_count": 7,
   "id": "5a3bc5eb-ebd9-43bb-8d55-0c53fab1f1c8",
   "metadata": {},
   "outputs": [],
   "source": [
    "# 웹서버 기동\n",
    "app = FastAPI(title=\"ML API\")"
   ]
  },
  {
   "cell_type": "code",
   "execution_count": 8,
   "id": "aa9185ee-debc-495f-9c28-f340b2e3e0ea",
   "metadata": {},
   "outputs": [],
   "source": [
    "# !pip list"
   ]
  },
  {
   "cell_type": "code",
   "execution_count": 9,
   "id": "b62d1866-63c8-4af4-850c-45580c76ab0a",
   "metadata": {},
   "outputs": [],
   "source": [
    "from sklearn.tree import plot_tree"
   ]
  },
  {
   "cell_type": "markdown",
   "id": "d92eddf0-3c79-43d4-9cde-7db7bc19ba53",
   "metadata": {},
   "source": [
    "# 3.인터페이스 정의"
   ]
  },
  {
   "cell_type": "code",
   "execution_count": 10,
   "id": "d421f911-bc11-4f5e-b52f-5ea899464f63",
   "metadata": {},
   "outputs": [],
   "source": [
    "# HCLUS, PROMOTION, HOLIDAY YOR (Y:1, N:0) PROMOTION (Y:1, N:0)\n",
    "# features = [\"LE_HCLUS\", \"PRO_PERCENT\", \"LE_HOLIDAY\", \"LE_PROMOTION\"]\n",
    "# label = [\"QTY\"]\n",
    "class InDataset(BaseModel):\n",
    "    Hclus: int\n",
    "    Propercent: float\n",
    "    Holiday: int\n",
    "    Promotion: int"
   ]
  },
  {
   "cell_type": "markdown",
   "id": "fed69dad-97cb-4163-84f2-86ca6348b334",
   "metadata": {},
   "source": [
    "# 4. 라우터 정의"
   ]
  },
  {
   "cell_type": "code",
   "execution_count": 11,
   "id": "46025728-3ccc-4921-95c7-c9dbfbe04696",
   "metadata": {},
   "outputs": [],
   "source": [
    "@app.get(\"/\")\n",
    "async def root():\n",
    "    return {\"message\":\"hello server is running\"}"
   ]
  },
  {
   "cell_type": "code",
   "execution_count": 12,
   "id": "f8cfd11a-ff99-48c5-8388-e637618967aa",
   "metadata": {},
   "outputs": [],
   "source": [
    "@app.post(\"/predict\", status_code=200)\n",
    "async def predict_ml(x: InDataset):\n",
    "    # 1-4 4는 소규모 홀리데이 1은 대규모 홀리데이 (블랙프라이데이)\n",
    "    # inHclus = 0\n",
    "    # inPropercent = 0.0\n",
    "    # inHoliday = 0\n",
    "    # inPromotion = 0\n",
    "    print(x)\n",
    "    testDf = pd.DataFrame( [[x.Hclus,x.Propercent,x.Holiday,x.Promotion ]])\n",
    "    predictValue = int( loadedModel.predict( testDf )[0] )\n",
    "    interfaceResult = {\"result\": predictValue }\n",
    "    return interfaceResult"
   ]
  },
  {
   "cell_type": "markdown",
   "id": "19faa606-67fa-40ad-ae61-5422f29108d6",
   "metadata": {},
   "source": [
    "# 서버구동"
   ]
  },
  {
   "cell_type": "code",
   "execution_count": 13,
   "id": "a6c35d91-6c7c-4a08-9b3a-1665eaadc6b7",
   "metadata": {},
   "outputs": [],
   "source": [
    "import uvicorn"
   ]
  },
  {
   "cell_type": "code",
   "execution_count": null,
   "id": "383ed94b-c680-40bc-bfff-64f1cd426775",
   "metadata": {},
   "outputs": [
    {
     "name": "stderr",
     "output_type": "stream",
     "text": [
      "INFO:     Will watch for changes in these directories: ['C:\\\\Users\\\\SMT17\\\\stdcode2024\\\\Session_모델서빙_exercise']\n",
      "INFO:     Uvicorn running on http://0.0.0.0:9999 (Press CTRL+C to quit)\n",
      "INFO:     Started reloader process [11856] using WatchFiles\n",
      "WARNING:  WatchFiles detected changes in 'app (4).py'. Reloading...\n",
      "WARNING:  WatchFiles detected changes in 'app.py', 'app (4).py'. Reloading...\n"
     ]
    }
   ],
   "source": [
    "if __name__ == \"__main__\":\n",
    "    uvicorn.run(\"app:app\", host=\"0.0.0.0\", port=9999, log_level=\"debug\",\n",
    "                proxy_headers=True, reload=True)"
   ]
  },
  {
   "cell_type": "code",
   "execution_count": null,
   "id": "38bd3458-930d-4997-8efa-3e1df2cd25c8",
   "metadata": {},
   "outputs": [],
   "source": [
    "# features = [\"LE_HCLUS\", \"PRO_PERCENT\", \"LE_HOLIDAY\", \"LE_PROMOTION\"]"
   ]
  },
  {
   "cell_type": "code",
   "execution_count": null,
   "id": "df7df167-9869-4f5d-986e-68a8d741a384",
   "metadata": {},
   "outputs": [],
   "source": [
    "# 1-4 4는 소규모 홀리데이 1은 대규모 홀리데이 (블랙프라이데이)\n",
    "# inHclus = 1\n",
    "# inPropercent = 0.5\n",
    "# inHoliday = 1\n",
    "# inPromotion = 1"
   ]
  },
  {
   "cell_type": "code",
   "execution_count": null,
   "id": "9315a831-a83d-49c3-96e0-bd0278e6e7a2",
   "metadata": {},
   "outputs": [],
   "source": [
    "# 1-4 4는 소규모 홀리데이 1은 대규모 홀리데이 (블랙프라이데이)\n",
    "inHclus = 0\n",
    "inPropercent = 0.0\n",
    "inHoliday = 0\n",
    "inPromotion = 0"
   ]
  },
  {
   "cell_type": "code",
   "execution_count": null,
   "id": "4369094e-4661-4090-bf6e-60f6a05ae69a",
   "metadata": {},
   "outputs": [],
   "source": [
    "pd.DataFrame( [[inHclus,inPropercent,inHoliday,inPromotion ]])"
   ]
  },
  {
   "cell_type": "code",
   "execution_count": null,
   "id": "b4951603-0b09-4b6e-a076-fd66513e9057",
   "metadata": {},
   "outputs": [],
   "source": [
    "testDf = pd.DataFrame( [[inHclus,inPropercent,inHoliday,inPromotion ]])"
   ]
  },
  {
   "cell_type": "code",
   "execution_count": null,
   "id": "a86b38c1-1e0f-4a42-b00c-7a7db014e77c",
   "metadata": {},
   "outputs": [],
   "source": [
    "loadedModel.predict( testDf )"
   ]
  },
  {
   "cell_type": "code",
   "execution_count": null,
   "id": "134c3c19-0828-488d-a7fb-e9012243a941",
   "metadata": {},
   "outputs": [],
   "source": [
    "predictValue = loadedModel.predict( testDf )\n",
    "predictValue"
   ]
  },
  {
   "cell_type": "code",
   "execution_count": null,
   "id": "79ee3fad-763c-46f1-9502-bd7d2c6b9c8a",
   "metadata": {},
   "outputs": [],
   "source": [
    "predictValue = loadedModel.predict( testDf )[0]\n",
    "predictValue"
   ]
  },
  {
   "cell_type": "code",
   "execution_count": null,
   "id": "79b642d6-61ae-424d-9e0b-0b32738faaf2",
   "metadata": {},
   "outputs": [],
   "source": [
    "predictValue = int( loadedModel.predict( testDf )[0] )\n",
    "interfaceResult = {\"result\": predictValue }"
   ]
  },
  {
   "cell_type": "raw",
   "id": "a8b4e8b0-aa1d-4e9e-846b-67e403325ef6",
   "metadata": {},
   "source": [
    "# loadedModel"
   ]
  },
  {
   "cell_type": "code",
   "execution_count": null,
   "id": "2259015b-02b4-4b2e-b629-84c295e934a5",
   "metadata": {},
   "outputs": [],
   "source": [
    "# import matplotlib.pyplot as plt\n",
    "\n",
    "# plt.figure(figsize = (15,8))\n",
    "# plot_tree(decision_tree = loadedModel)"
   ]
  },
  {
   "cell_type": "code",
   "execution_count": null,
   "id": "0cdf2eab-ee2e-4166-9183-f3204de36bab",
   "metadata": {},
   "outputs": [],
   "source": [
    "# 프레임워크 반제품.... 개발을 편리하게 하도록\n",
    "# 일반적인 로그처리 기본 기능을 탑재한 환경!!!\n",
    "# java spring~!!!\n",
    "# python django flask fastapi\n",
    "# node express...."
   ]
  }
 ],
 "metadata": {
  "kernelspec": {
   "display_name": "Python 3 (ipykernel)",
   "language": "python",
   "name": "python3"
  },
  "language_info": {
   "codemirror_mode": {
    "name": "ipython",
    "version": 3
   },
   "file_extension": ".py",
   "mimetype": "text/x-python",
   "name": "python",
   "nbconvert_exporter": "python",
   "pygments_lexer": "ipython3",
   "version": "3.10.11"
  }
 },
 "nbformat": 4,
 "nbformat_minor": 5
}
