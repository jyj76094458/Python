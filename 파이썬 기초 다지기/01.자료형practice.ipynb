{
 "cells": [
  {
   "cell_type": "code",
   "execution_count": 5,
   "id": "5323104c-21bd-4976-bfda-5e0acc65820c",
   "metadata": {},
   "outputs": [
    {
     "data": {
      "text/plain": [
       "'C:\\\\Users\\\\SMT17\\\\stdcode2024\\\\Session01_자료형'"
      ]
     },
     "execution_count": 5,
     "metadata": {},
     "output_type": "execute_result"
    }
   ],
   "source": [
    "pwd"
   ]
  },
  {
   "cell_type": "code",
   "execution_count": 6,
   "id": "065415e9-6368-454b-b1af-be4656a3f60d",
   "metadata": {},
   "outputs": [
    {
     "data": {
      "text/plain": [
       "8"
      ]
     },
     "execution_count": 6,
     "metadata": {},
     "output_type": "execute_result"
    }
   ],
   "source": [
    "a=3\n",
    "b=5\n",
    "a+b"
   ]
  },
  {
   "cell_type": "code",
   "execution_count": 7,
   "id": "2ddde1a3-46af-43f3-9bc3-e094a74db9bd",
   "metadata": {},
   "outputs": [
    {
     "data": {
      "text/plain": [
       "int"
      ]
     },
     "execution_count": 7,
     "metadata": {},
     "output_type": "execute_result"
    }
   ],
   "source": [
    "type(a)"
   ]
  },
  {
   "cell_type": "code",
   "execution_count": 11,
   "id": "19d2e66e-a32c-4b5a-b9d6-0f0372f66406",
   "metadata": {},
   "outputs": [
    {
     "data": {
      "text/plain": [
       "8.222000000000001"
      ]
     },
     "execution_count": 11,
     "metadata": {},
     "output_type": "execute_result"
    }
   ],
   "source": [
    "a=3\n",
    "b=5.222\n",
    "a+b"
   ]
  },
  {
   "cell_type": "code",
   "execution_count": 12,
   "id": "95b29cf3-2d0c-4b79-a08c-7eb3cd414339",
   "metadata": {},
   "outputs": [
    {
     "data": {
      "text/plain": [
       "float"
      ]
     },
     "execution_count": 12,
     "metadata": {},
     "output_type": "execute_result"
    }
   ],
   "source": [
    "type(b)"
   ]
  },
  {
   "cell_type": "code",
   "execution_count": 9,
   "id": "470ab652-d815-4268-970e-b94b5831d6f7",
   "metadata": {},
   "outputs": [
    {
     "data": {
      "text/plain": [
       "6"
      ]
     },
     "execution_count": 9,
     "metadata": {},
     "output_type": "execute_result"
    }
   ],
   "source": [
    "a=3\n",
    "A=10\n",
    "a+A\n",
    "a+a"
   ]
  },
  {
   "cell_type": "code",
   "execution_count": 13,
   "id": "63886856-55e4-4452-891a-0517a883bb89",
   "metadata": {},
   "outputs": [
    {
     "data": {
      "text/plain": [
       "800.0"
      ]
     },
     "execution_count": 13,
     "metadata": {},
     "output_type": "execute_result"
    }
   ],
   "source": [
    "# 가격 할인비율 정의\n",
    "a = 1000\n",
    "b = 0.2\n",
    "# 최종가격 계산\n",
    "c = a - (a*b)\n",
    "c\n",
    "#가격 할인비율 정의\n",
    "price = 1000\n",
    "promotion = 0.2\n",
    "# 최종가격 계산\n",
    "marketPrice = price - (price * promotion)\n",
    "marketPrice"
   ]
  },
  {
   "cell_type": "code",
   "execution_count": 14,
   "id": "d0ce9707-8616-4537-8f50-a98f1ace9c17",
   "metadata": {},
   "outputs": [
    {
     "data": {
      "text/plain": [
       "2000.2"
      ]
     },
     "execution_count": 14,
     "metadata": {},
     "output_type": "execute_result"
    }
   ],
   "source": [
    "price = 2000\n",
    "promotion = 0.2\n",
    "plusAns = price + promotion\n",
    "plusAns"
   ]
  },
  {
   "cell_type": "code",
   "execution_count": 15,
   "id": "c4202998-9ada-42f7-95d6-0316a0ebcfe4",
   "metadata": {},
   "outputs": [
    {
     "data": {
      "text/plain": [
       "0"
      ]
     },
     "execution_count": 15,
     "metadata": {},
     "output_type": "execute_result"
    }
   ],
   "source": [
    "weekStd = 4\n",
    "actualWeek = 20\n",
    "actualWeek % weekStd"
   ]
  },
  {
   "cell_type": "code",
   "execution_count": 27,
   "id": "e2a15739-6177-46e0-953a-70f3508a3ad8",
   "metadata": {},
   "outputs": [
    {
     "name": "stdout",
     "output_type": "stream",
     "text": [
      "한국\n",
      "미국\n"
     ]
    }
   ],
   "source": [
    "nationList = [\"한국\",\"A01\",\"미국\",\"A02\"]\n",
    "nationListLen = len(nationList)\n",
    "for i in range(0,nationListLen):\n",
    "    if i % 2 == 0:\n",
    "        print ( nationList[i] )"
   ]
  },
  {
   "cell_type": "code",
   "execution_count": 28,
   "id": "a07578f5-e8cc-42c6-83ac-352b66406632",
   "metadata": {},
   "outputs": [
    {
     "data": {
      "text/plain": [
       "0"
      ]
     },
     "execution_count": 28,
     "metadata": {},
     "output_type": "execute_result"
    }
   ],
   "source": [
    "nationListLen = len(nationList)\n",
    "targetIndex = 9\n",
    "pattern = 3\n",
    "targetIndex % pattern"
   ]
  },
  {
   "cell_type": "code",
   "execution_count": 29,
   "id": "e97b95bb-9921-4044-b61f-d298b314acd5",
   "metadata": {},
   "outputs": [
    {
     "data": {
      "text/plain": [
       "62"
      ]
     },
     "execution_count": 29,
     "metadata": {},
     "output_type": "execute_result"
    }
   ],
   "source": [
    "import datetime\n",
    "\n",
    "currentTime = datetime.datetime.now()\n",
    "currHour = currentTime.hour\n",
    "currMinutes = currentTime.minute\n",
    "plusAnswer = currHour + currMinutes\n",
    "plusAnswer"
   ]
  }
 ],
 "metadata": {
  "kernelspec": {
   "display_name": "Python 3 (ipykernel)",
   "language": "python",
   "name": "python3"
  },
  "language_info": {
   "codemirror_mode": {
    "name": "ipython",
    "version": 3
   },
   "file_extension": ".py",
   "mimetype": "text/x-python",
   "name": "python",
   "nbconvert_exporter": "python",
   "pygments_lexer": "ipython3",
   "version": "3.10.11"
  }
 },
 "nbformat": 4,
 "nbformat_minor": 5
}
